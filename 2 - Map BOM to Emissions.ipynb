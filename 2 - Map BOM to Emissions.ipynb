{
 "cells": [
  {
   "cell_type": "markdown",
   "id": "ef74ee7a-f51f-443c-bd32-5fa33d7464b6",
   "metadata": {},
   "source": [
    "# Emissionfactor for scope 3"
   ]
  },
  {
   "cell_type": "markdown",
   "id": "ae0d6664-cb5a-42f1-9419-faceed145845",
   "metadata": {
    "tags": []
   },
   "source": [
    "### initiation"
   ]
  },
  {
   "cell_type": "code",
   "execution_count": 2,
   "id": "d207001e-df8d-420c-af53-ced8ea82af54",
   "metadata": {
    "tags": []
   },
   "outputs": [
    {
     "name": "stdout",
     "output_type": "stream",
     "text": [
      "us-west-2\n"
     ]
    }
   ],
   "source": [
    "import boto3\n",
    "import pprint\n",
    "from botocore.client import Config\n",
    "import json\n",
    "import re\n",
    "\n",
    "import os\n",
    "import json\n",
    "import time\n",
    "import base64\n",
    "from PIL import Image\n",
    "import io\n",
    "from IPython.display import Image\n",
    "from IPython.display import display\n",
    "import ipywidgets as widgets\n",
    "#from skimage import io\n",
    "\n",
    "\n",
    "\n",
    "pp = pprint.PrettyPrinter(indent=2)\n",
    "session = boto3.session.Session()\n",
    "region = session.region_name\n",
    "bedrock_config = Config(connect_timeout=120, read_timeout=120, retries={'max_attempts': 0})\n",
    "bedrock_client = boto3.client('bedrock-runtime', region_name = region)\n",
    "bedrock_runtime = boto3.client('bedrock-runtime', region_name = region)\n",
    "bedrock_agent_client = boto3.client(\"bedrock-agent-runtime\",\n",
    "                              config=bedrock_config, region_name = region)\n",
    "print(region)\n",
    "\n",
    "from helper.llmcall import * \n",
    "from helper.kbhelper import * \n",
    "model = \"anthropic.claude-3-sonnet\"\n",
    "KB_ID =  ##add KB ID creaded from last section\n",
    "model_arn = \"arn:aws:bedrock:us-west-2::foundation-model/anthropic.claude-3-sonnet-20240229-v1:0\""
   ]
  },
  {
   "cell_type": "markdown",
   "id": "94e8d977-a4a9-4996-ab7c-ac708c4ef44a",
   "metadata": {},
   "source": [
    "### reding activities.csv - a sample BOM from ERP "
   ]
  },
  {
   "cell_type": "code",
   "execution_count": 3,
   "id": "eaab12e1-d55f-499f-9ad4-999819089643",
   "metadata": {
    "tags": []
   },
   "outputs": [
    {
     "name": "stdout",
     "output_type": "stream",
     "text": [
      "     Commodity                       CommodityDescription  \\\n",
      "0  67033175020                      NIPPLE BRASS 2 X 8 IN   \n",
      "1  65933780021                 COUPLING SCH 40 PVC 3 SLIP   \n",
      "2  67033140008         TEE BRASS 1-1/2 X 1-1/2 X 1-1/2 IN   \n",
      "3  67039110016               COUPLING PVC SCHED 40 1/2 IN   \n",
      "4  67033195004  COUPLING BRASS COMP GJ X COMP GJ 1-1/4 IN   \n",
      "\n",
      "                                 ExtendedDescription  \\\n",
      "0  RC LN_____ QTY DEL_____ P/F_____ B/O______ DEL...   \n",
      "1  RC LN_____ QTY DEL_____ P/F_____ B/O___DEL DAT...   \n",
      "2  RC LN_____ QTY DEL_____ P/F_____ B/O___DEL DAT...   \n",
      "3  RC LN______QTY DEL______P/F____B/O____DEL DATE...   \n",
      "4  RC LN_____ QTY DEL_____ P/F_____ B/O______ DEL...   \n",
      "\n",
      "                          ContractName  \n",
      "0                  brass for Glen Bell  \n",
      "1              MSC material for AWWBSC  \n",
      "2               TI material for awgbsc  \n",
      "3            material needed at awgbsc  \n",
      "4  Brass order for Glen Bell warehouse  \n"
     ]
    }
   ],
   "source": [
    "# Replace 'your_file.csv' with the actual path to your CSV file\n",
    "import pandas as pd\n",
    "df = pd.read_csv('activities.csv')\n",
    "pprint.pp(df.head())"
   ]
  },
  {
   "cell_type": "code",
   "execution_count": 4,
   "id": "b0448c85-6d09-49a7-a4a4-03ccc6f4f7c6",
   "metadata": {},
   "outputs": [],
   "source": [
    "# Prompt to clean activity names and descriptions into a simple activity description to be matched in the next step.\n",
    "def generate_clean_text_prompt(COMMODITY, COMMODITY_DESCRIPTION, EXTENDED_DESCRIPTION, CONTRACT_NAME):\n",
    "    \n",
    "    prompt = f'''I want to do of LCA of business activities based on Environmentally Extended Input Output (EEIO) \n",
    "    Environmental Impact Factors (EIF). I am interested in the environmental impact associated with the materials \n",
    "    and manufacturing phase of the activity. I am given business activity descriptions, and I want to \n",
    "    paraphrase it to a plain language description before I select an EIF. \n",
    "\n",
    "    Below is an example, inside <example></example> XML tags, of a given activity, and its plain language descriptions. Note that the descriptions \n",
    "    are brief, and do not make any assumptions about the activity.\n",
    "\n",
    "    <example>\n",
    "    COMMODITY                                                      20142770002\n",
    "    COMMODITY_DESCRIPTION      GLOVES WORK MECHANIC SYNTHETIC LEATHER SZ LARGE\n",
    "    EXTENDED_DESCRIPTION     RC LN_____ QTY DEL_____ P/F_____ B/O______ DEL...\n",
    "    CONTRACT_NAME                            MSC items for Glen Bell warehouse\n",
    "\n",
    "    The item is a synthetic leather large work gloves \n",
    "    </example>\n",
    "\n",
    "    Following the example, provide a plain language description of the activity data given below:\n",
    "    COMMODITY              {COMMODITY}\n",
    "    COMMODITY_DESCRIPTION  {COMMODITY_DESCRIPTION}\n",
    "    EXTENDED_DESCRIPTION   {EXTENDED_DESCRIPTION}\n",
    "    CONTRACT_NAME          {CONTRACT_NAME}\n",
    "\n",
    "    Make the most of the given information. DO NOT say that information is limited.\n",
    "    DO NOT refrain from providing a description, or ask for more information.\n",
    "    If you cannot provide a plain language description, simply summarize the \n",
    "    information provided. You MUST provide a description. \n",
    "\n",
    "    Avoid filler words such as \"Based on the details\" or \"happy to assist\", \n",
    "    keep your response to the point.\n",
    "    Do not repeat the given instructions or information. \n",
    "    DO NOT say you have insufficient information for an LCA.\n",
    "\n",
    "    Only provide the description and nothing else.'''\n",
    "\n",
    "    return prompt"
   ]
  },
  {
   "cell_type": "code",
   "execution_count": 5,
   "id": "a9da8f90-a4ea-4075-ada7-6f28f34790d3",
   "metadata": {
    "tags": []
   },
   "outputs": [],
   "source": [
    "for index, row in df.iterrows():\n",
    "    prompt = generate_clean_text_prompt( row['Commodity'], row['CommodityDescription'], row['ExtendedDescription'], row['ContractName'])\n",
    "    clean_description = interactWithLLMTextfromAnthropic(bedrock_runtime,prompt,'',model,\"\")\n",
    "    break"
   ]
  },
  {
   "cell_type": "code",
   "execution_count": 6,
   "id": "c699a2a6-0c75-4acf-b534-c84f03025479",
   "metadata": {
    "tags": []
   },
   "outputs": [
    {
     "name": "stdout",
     "output_type": "stream",
     "text": [
      "'The item is a 2 inch by 8 inch brass nipple.'\n"
     ]
    }
   ],
   "source": [
    "pprint.pp(clean_description)"
   ]
  },
  {
   "cell_type": "markdown",
   "id": "2211c193-b081-45fd-a0c9-7d18927f0f99",
   "metadata": {
    "tags": []
   },
   "source": [
    "### search this material in the knoledge base \n",
    "### use the findings to generate potential matches of the item "
   ]
  },
  {
   "cell_type": "code",
   "execution_count": 7,
   "id": "82b8d70d-0d00-4c1b-b775-68197f3c06b0",
   "metadata": {
    "tags": []
   },
   "outputs": [],
   "source": [
    "retrievalResults = retrieve(bedrock_agent_client,clean_description, KB_ID, 3)\n",
    "contexts = get_contexts(retrievalResults)"
   ]
  },
  {
   "cell_type": "code",
   "execution_count": 8,
   "id": "f0817075-1953-4022-ac69-b86fa330100e",
   "metadata": {
    "tags": []
   },
   "outputs": [
    {
     "name": "stdout",
     "output_type": "stream",
     "text": [
      "['mm. or less, 1.18 inch or less), manufacturing\" 332992,\"Paper shells (i.e., '\n",
      " '30 mm. or less, 1.18 inch or less) manufacturing\" 332992,\"Pellets,',\n",
      " 'mm. or less, 1.18 inch or less), manufacturing\" 332992,\"Paper shells (i.e., '\n",
      " '30 mm. or less, 1.18 inch or less) manufacturing\" 332992,\"Pellets,',\n",
      " 'less, 1.18 inch or less), manufacturing\" 332992,BB shot manufacturing '\n",
      " '332992,\"Blank cartridges (i.e., 30 mm. or less, 1.18 inch or less) '\n",
      " 'manufacturing\"',\n",
      " 'mm. or less, 1.18 inch or less), manufacturing\" 332992,\"Paper shells (i.e., '\n",
      " '30 mm. or less, 1.18 inch or less) manufacturing\" 332992,\"Pellets,',\n",
      " 'less, 1.18 inch or less), manufacturing\" 332992,BB shot manufacturing '\n",
      " '332992,\"Blank cartridges (i.e., 30 mm. or less, 1.18 inch or less) '\n",
      " 'manufacturing\"',\n",
      " ', made from purchased metal pipe\" 332996,\"Nipples, metal, made from '\n",
      " 'purchased pipe\" 332996,Pipe and pipe fittings made from purchased metal pipe '\n",
      " '332996,Pipe couplings made from purchased metal pipe']\n"
     ]
    }
   ],
   "source": [
    "pprint.pp(contexts)"
   ]
  },
  {
   "cell_type": "code",
   "execution_count": 9,
   "id": "29677b26-ab47-47a2-a12c-4af8d7417849",
   "metadata": {
    "tags": []
   },
   "outputs": [],
   "source": [
    "# Prompt to clean activity names and descriptions into a simple activity description to be matched in the next step.\n",
    "def possible_eio_matches_system_prompt(query,search_results):\n",
    "    \n",
    "    prompt = f'''You are a Lifecycle Analysis expert matching business activities to their North \n",
    "    American Industry Classification System (NAICS) titles.\n",
    "\n",
    "    I want to do of LCA of business activities based on Environmentally Extended Input Output \n",
    "    (EEIO) Environmental Impact Factors (EIF). I am interested in the environmental\n",
    "    impact associated with the materials and manufacturing phase of the activity. \n",
    "    I am given a business activity and I want to match it to its the North\n",
    "    American Industry Classification System code and title.\n",
    "\n",
    "    Format the output in JSON with the keys \"NAICSCode1\", \"NAICSTitle1\", \"NAICSCode2\", \"NAICSTitle2\", \"NAICSCode3\", \"NAICSTitle3\".\n",
    "\n",
    "    Below is an example, inside <example></example> XML tags, of a given activity and three possible NAICS codes and titles.\n",
    "\n",
    "    <example>\n",
    "    The item is a synthetic leather large work gloves.\n",
    "\n",
    "    {{\n",
    "        \"NAICSCode1\": \"315990\",\n",
    "        \"NAICSTitle1\": \"Apparel Accessories and Other Apparel Manufacturing\",\n",
    "        \"NAICSCode2\": \"339920\",\n",
    "        \"NAICSTitle2\": \"Sporting and Athletic Goods Manufacturing\",\n",
    "        \"NAICSCode3\": \"316998\",\n",
    "        \"NAICSTitle3\": \"All Other Leather Good and Allied Product Manufacturing\"\n",
    "    }}\n",
    "    </example>\n",
    "\n",
    "    What are three possible NAICS titles for the given activity:\n",
    "    {query}\n",
    "\n",
    "    {search_results}\n",
    "\n",
    "    Make the most of the given information. DO NOT say that information is limited or ask for more information.\n",
    "    YOU MUST provide three NAICS titles.\n",
    "    Avoid filler words such as \"Based on the details\" or \"happy to assist\", keep your response to the point.\n",
    "    Do not repeat the given instructions or information. \n",
    "    DO NOT say you have insufficient information for an LCA.\n",
    "\n",
    "    Respond with the JSON output and nothing else.\n",
    "    '''\n",
    "    #print(prompt)\n",
    "    return prompt"
   ]
  },
  {
   "cell_type": "code",
   "execution_count": 10,
   "id": "171125d2-8237-419d-9e95-0b5b0069050d",
   "metadata": {
    "tags": []
   },
   "outputs": [],
   "source": [
    "prompt = possible_eio_matches_system_prompt(clean_description, contexts)\n",
    "possible_match = interactWithLLMTextfromAnthropic(bedrock_runtime,prompt,'',model,\"\")\n",
    "    "
   ]
  },
  {
   "cell_type": "code",
   "execution_count": 11,
   "id": "7af3a07e-9c28-4df4-ac1a-88a8cae9fae9",
   "metadata": {
    "tags": []
   },
   "outputs": [
    {
     "name": "stdout",
     "output_type": "stream",
     "text": [
      "('{\\n'\n",
      " '    \"NAICSCode1\": \"332996\",\\n'\n",
      " '    \"NAICSTitle1\": \"Fabricated Pipe and Pipe Fitting Manufacturing\",\\n'\n",
      " '    \"NAICSCode2\": \"331491\",\\n'\n",
      " '    \"NAICSTitle2\": \"Nonferrous Metal (except Copper and Aluminum) Rolling, '\n",
      " 'Drawing, and Extruding\",\\n'\n",
      " '    \"NAICSCode3\": \"332919\",\\n'\n",
      " '    \"NAICSTitle3\": \"Other Metal Valve and Pipe Fitting Manufacturing\"\\n'\n",
      " '}')\n"
     ]
    }
   ],
   "source": [
    "pprint.pp(possible_match)"
   ]
  },
  {
   "cell_type": "code",
   "execution_count": 12,
   "id": "9056853a-ab16-44fd-8deb-64df3c2bcbbb",
   "metadata": {
    "tags": []
   },
   "outputs": [],
   "source": [
    "# Parse the JSON string\n",
    "data = json.loads(possible_match)\n",
    "\n",
    "# Prepare and format the output\n",
    "output = []\n",
    "for i in range(1, 4):\n",
    "    code = data[f'NAICSCode{i}']\n",
    "    title = data[f'NAICSTitle{i}']\n",
    "    output.append(f'{code} - {title}')\n",
    "\n",
    "# Join the output with new lines\n",
    "formatted_input = '\\n'.join(output)\n",
    "\n"
   ]
  },
  {
   "cell_type": "code",
   "execution_count": 13,
   "id": "64c70487-77d4-4967-a359-4ff75443da6d",
   "metadata": {
    "tags": []
   },
   "outputs": [
    {
     "name": "stdout",
     "output_type": "stream",
     "text": [
      "('332996 - Fabricated Pipe and Pipe Fitting Manufacturing\\n'\n",
      " '331491 - Nonferrous Metal (except Copper and Aluminum) Rolling, Drawing, and '\n",
      " 'Extruding\\n'\n",
      " '332919 - Other Metal Valve and Pipe Fitting Manufacturing')\n"
     ]
    }
   ],
   "source": [
    "pprint.pp(formatted_input)"
   ]
  },
  {
   "cell_type": "markdown",
   "id": "c955c92f-5991-4ed9-a08e-889c5ca3be5e",
   "metadata": {
    "tags": []
   },
   "source": [
    "### find the best match "
   ]
  },
  {
   "cell_type": "code",
   "execution_count": 14,
   "id": "c73dd88d-32cc-4faa-b20e-23fd97ab98b8",
   "metadata": {
    "tags": []
   },
   "outputs": [],
   "source": [
    "# Prompt to choose the best emission factor from the options\n",
    "def best_eif_prompt(query,formatted_input):\n",
    "    \n",
    "    best_eif_prompt = f'''You are a Lifecycle Analysis expert matching business activities to their North American Industry Classification System (NAICS) titles.\n",
    "\n",
    "    I want to do of LCA of business activities based on Environmentally Extended Input Output (EEIO) Environmental Impact Factors (EIF). I am interested in the environmental impact associated with the materials and manufacturing phase of the activity. I am given a business activity and three possible corresponding NAICS codes and titles. \n",
    "\n",
    "    I want to pick the NAICS code and title that best match the given activity. Include justification for your choice.\n",
    "    Format the output in JSON with the keys \"BestNAICSCode\", \"BestNAICSTitle\", \"Justification\".\n",
    "\n",
    "    Activity:\n",
    "    {query}\n",
    "\n",
    "    Possible NAICS codes and titles:\n",
    "    {formatted_input}\n",
    "\n",
    "    Which of these impact factors is the best match for the provided activity? \n",
    "\n",
    "    Note that impact factor names with 'market' in them are better match than those with 'production' in them.\n",
    "    Make the most of the given information. DO NOT say that information is limited or ask for more information.\n",
    "    YOU MUST choose a best code and title. YOU MUST include a justification for your choice.\n",
    "    Avoid filler words such as \"Based on the details\" or \"happy to assist\", keep your response to the point.\n",
    "    Do not repeat the given instructions or information. \n",
    "    DO NOT say you have insufficient information for an LCA.\n",
    "\n",
    "    Respond with the JSON output and nothing else.\n",
    "    '''\n",
    "    return best_eif_prompt"
   ]
  },
  {
   "cell_type": "code",
   "execution_count": 15,
   "id": "75213da4-a38a-44b4-9093-b92463acf4f5",
   "metadata": {
    "tags": []
   },
   "outputs": [],
   "source": [
    "prompt = best_eif_prompt(clean_description,formatted_input)\n",
    "best_match = interactWithLLMTextfromAnthropic(bedrock_runtime,prompt,'',model,\"\")\n",
    "    "
   ]
  },
  {
   "cell_type": "code",
   "execution_count": 16,
   "id": "3113fe25-45dc-4e41-8b2b-ba7716a31819",
   "metadata": {
    "tags": []
   },
   "outputs": [
    {
     "name": "stdout",
     "output_type": "stream",
     "text": [
      "('{\"BestNAICSCode\": \"332919\", \"BestNAICSTitle\": \"Other Metal Valve and Pipe '\n",
      " 'Fitting Manufacturing\", \"Justification\": \"The activity involves '\n",
      " 'manufacturing a brass pipe fitting, specifically a 2 inch by 8 inch brass '\n",
      " \"nipple. The NAICS code 332919 'Other Metal Valve and Pipe Fitting \"\n",
      " \"Manufacturing' directly aligns with this activity, as it covers the \"\n",
      " 'manufacturing of metal pipe fittings like the brass nipple mentioned.\"}')\n"
     ]
    }
   ],
   "source": [
    "pprint.pp(best_match)"
   ]
  },
  {
   "cell_type": "code",
   "execution_count": 17,
   "id": "16007d79-2e58-407a-adfa-28850eedf5dc",
   "metadata": {
    "tags": []
   },
   "outputs": [],
   "source": [
    "# Parse the JSON string\n",
    "data = json.loads(best_match)\n",
    "\n",
    "# Prepare and format the output\n",
    "\n",
    "bestcode = data[f'BestNAICSCode']\n",
    "besttitle = data[f'BestNAICSTitle']\n",
    "justification = data[f'Justification']\n",
    "    \n",
    "\n"
   ]
  },
  {
   "cell_type": "code",
   "execution_count": null,
   "id": "d562fc98-92de-40fa-bd5c-404b790cb9f0",
   "metadata": {},
   "outputs": [],
   "source": []
  },
  {
   "cell_type": "markdown",
   "id": "96fac0ae-3e3e-445b-ba0c-3cfbffe98402",
   "metadata": {
    "tags": []
   },
   "source": [
    "### retrive the emmision factor of the best match NAICS code "
   ]
  },
  {
   "cell_type": "code",
   "execution_count": 18,
   "id": "e6ab350c-b500-4346-87ee-546c90677cc8",
   "metadata": {
    "tags": []
   },
   "outputs": [],
   "source": [
    "def get_contextswithretriveandgenerate(retrievalResults):\n",
    "    data = json.loads(json.dumps(retrievalResults))\n",
    "    # Extract the output text value\n",
    "    output_text = data['output']['text']\n",
    "    return output_text\n"
   ]
  },
  {
   "cell_type": "code",
   "execution_count": 19,
   "id": "fdc75b76-3ec7-4367-ad72-68ca05dbb3c5",
   "metadata": {
    "tags": []
   },
   "outputs": [],
   "source": [
    "question = \"what is the Supply Chain Emission Factors with Margins for \" + besttitle +\". only return the numerical value of the measurement.\"\n",
    "retrievalResults = retrieveandgenerate(bedrock_agent_client,question, KB_ID,model_arn)\n",
    "#print(retrievalResults)\n",
    "emmision_fector = get_contextswithretriveandgenerate(retrievalResults)\n",
    "#print(emmision_fector)"
   ]
  },
  {
   "cell_type": "code",
   "execution_count": 20,
   "id": "ec2a59e2-47e5-4f70-bd79-170ca103e22c",
   "metadata": {},
   "outputs": [
    {
     "name": "stdout",
     "output_type": "stream",
     "text": [
      "'0.171'\n"
     ]
    }
   ],
   "source": [
    "pprint.pp(emmision_fector)"
   ]
  },
  {
   "cell_type": "code",
   "execution_count": null,
   "id": "2d0ea20b-8bd9-43d6-b252-9f85de55f690",
   "metadata": {},
   "outputs": [],
   "source": []
  }
 ],
 "metadata": {
  "availableInstances": [
   {
    "_defaultOrder": 0,
    "_isFastLaunch": true,
    "category": "General purpose",
    "gpuNum": 0,
    "hideHardwareSpecs": false,
    "memoryGiB": 4,
    "name": "ml.t3.medium",
    "vcpuNum": 2
   },
   {
    "_defaultOrder": 1,
    "_isFastLaunch": false,
    "category": "General purpose",
    "gpuNum": 0,
    "hideHardwareSpecs": false,
    "memoryGiB": 8,
    "name": "ml.t3.large",
    "vcpuNum": 2
   },
   {
    "_defaultOrder": 2,
    "_isFastLaunch": false,
    "category": "General purpose",
    "gpuNum": 0,
    "hideHardwareSpecs": false,
    "memoryGiB": 16,
    "name": "ml.t3.xlarge",
    "vcpuNum": 4
   },
   {
    "_defaultOrder": 3,
    "_isFastLaunch": false,
    "category": "General purpose",
    "gpuNum": 0,
    "hideHardwareSpecs": false,
    "memoryGiB": 32,
    "name": "ml.t3.2xlarge",
    "vcpuNum": 8
   },
   {
    "_defaultOrder": 4,
    "_isFastLaunch": true,
    "category": "General purpose",
    "gpuNum": 0,
    "hideHardwareSpecs": false,
    "memoryGiB": 8,
    "name": "ml.m5.large",
    "vcpuNum": 2
   },
   {
    "_defaultOrder": 5,
    "_isFastLaunch": false,
    "category": "General purpose",
    "gpuNum": 0,
    "hideHardwareSpecs": false,
    "memoryGiB": 16,
    "name": "ml.m5.xlarge",
    "vcpuNum": 4
   },
   {
    "_defaultOrder": 6,
    "_isFastLaunch": false,
    "category": "General purpose",
    "gpuNum": 0,
    "hideHardwareSpecs": false,
    "memoryGiB": 32,
    "name": "ml.m5.2xlarge",
    "vcpuNum": 8
   },
   {
    "_defaultOrder": 7,
    "_isFastLaunch": false,
    "category": "General purpose",
    "gpuNum": 0,
    "hideHardwareSpecs": false,
    "memoryGiB": 64,
    "name": "ml.m5.4xlarge",
    "vcpuNum": 16
   },
   {
    "_defaultOrder": 8,
    "_isFastLaunch": false,
    "category": "General purpose",
    "gpuNum": 0,
    "hideHardwareSpecs": false,
    "memoryGiB": 128,
    "name": "ml.m5.8xlarge",
    "vcpuNum": 32
   },
   {
    "_defaultOrder": 9,
    "_isFastLaunch": false,
    "category": "General purpose",
    "gpuNum": 0,
    "hideHardwareSpecs": false,
    "memoryGiB": 192,
    "name": "ml.m5.12xlarge",
    "vcpuNum": 48
   },
   {
    "_defaultOrder": 10,
    "_isFastLaunch": false,
    "category": "General purpose",
    "gpuNum": 0,
    "hideHardwareSpecs": false,
    "memoryGiB": 256,
    "name": "ml.m5.16xlarge",
    "vcpuNum": 64
   },
   {
    "_defaultOrder": 11,
    "_isFastLaunch": false,
    "category": "General purpose",
    "gpuNum": 0,
    "hideHardwareSpecs": false,
    "memoryGiB": 384,
    "name": "ml.m5.24xlarge",
    "vcpuNum": 96
   },
   {
    "_defaultOrder": 12,
    "_isFastLaunch": false,
    "category": "General purpose",
    "gpuNum": 0,
    "hideHardwareSpecs": false,
    "memoryGiB": 8,
    "name": "ml.m5d.large",
    "vcpuNum": 2
   },
   {
    "_defaultOrder": 13,
    "_isFastLaunch": false,
    "category": "General purpose",
    "gpuNum": 0,
    "hideHardwareSpecs": false,
    "memoryGiB": 16,
    "name": "ml.m5d.xlarge",
    "vcpuNum": 4
   },
   {
    "_defaultOrder": 14,
    "_isFastLaunch": false,
    "category": "General purpose",
    "gpuNum": 0,
    "hideHardwareSpecs": false,
    "memoryGiB": 32,
    "name": "ml.m5d.2xlarge",
    "vcpuNum": 8
   },
   {
    "_defaultOrder": 15,
    "_isFastLaunch": false,
    "category": "General purpose",
    "gpuNum": 0,
    "hideHardwareSpecs": false,
    "memoryGiB": 64,
    "name": "ml.m5d.4xlarge",
    "vcpuNum": 16
   },
   {
    "_defaultOrder": 16,
    "_isFastLaunch": false,
    "category": "General purpose",
    "gpuNum": 0,
    "hideHardwareSpecs": false,
    "memoryGiB": 128,
    "name": "ml.m5d.8xlarge",
    "vcpuNum": 32
   },
   {
    "_defaultOrder": 17,
    "_isFastLaunch": false,
    "category": "General purpose",
    "gpuNum": 0,
    "hideHardwareSpecs": false,
    "memoryGiB": 192,
    "name": "ml.m5d.12xlarge",
    "vcpuNum": 48
   },
   {
    "_defaultOrder": 18,
    "_isFastLaunch": false,
    "category": "General purpose",
    "gpuNum": 0,
    "hideHardwareSpecs": false,
    "memoryGiB": 256,
    "name": "ml.m5d.16xlarge",
    "vcpuNum": 64
   },
   {
    "_defaultOrder": 19,
    "_isFastLaunch": false,
    "category": "General purpose",
    "gpuNum": 0,
    "hideHardwareSpecs": false,
    "memoryGiB": 384,
    "name": "ml.m5d.24xlarge",
    "vcpuNum": 96
   },
   {
    "_defaultOrder": 20,
    "_isFastLaunch": false,
    "category": "General purpose",
    "gpuNum": 0,
    "hideHardwareSpecs": true,
    "memoryGiB": 0,
    "name": "ml.geospatial.interactive",
    "supportedImageNames": [
     "sagemaker-geospatial-v1-0"
    ],
    "vcpuNum": 0
   },
   {
    "_defaultOrder": 21,
    "_isFastLaunch": true,
    "category": "Compute optimized",
    "gpuNum": 0,
    "hideHardwareSpecs": false,
    "memoryGiB": 4,
    "name": "ml.c5.large",
    "vcpuNum": 2
   },
   {
    "_defaultOrder": 22,
    "_isFastLaunch": false,
    "category": "Compute optimized",
    "gpuNum": 0,
    "hideHardwareSpecs": false,
    "memoryGiB": 8,
    "name": "ml.c5.xlarge",
    "vcpuNum": 4
   },
   {
    "_defaultOrder": 23,
    "_isFastLaunch": false,
    "category": "Compute optimized",
    "gpuNum": 0,
    "hideHardwareSpecs": false,
    "memoryGiB": 16,
    "name": "ml.c5.2xlarge",
    "vcpuNum": 8
   },
   {
    "_defaultOrder": 24,
    "_isFastLaunch": false,
    "category": "Compute optimized",
    "gpuNum": 0,
    "hideHardwareSpecs": false,
    "memoryGiB": 32,
    "name": "ml.c5.4xlarge",
    "vcpuNum": 16
   },
   {
    "_defaultOrder": 25,
    "_isFastLaunch": false,
    "category": "Compute optimized",
    "gpuNum": 0,
    "hideHardwareSpecs": false,
    "memoryGiB": 72,
    "name": "ml.c5.9xlarge",
    "vcpuNum": 36
   },
   {
    "_defaultOrder": 26,
    "_isFastLaunch": false,
    "category": "Compute optimized",
    "gpuNum": 0,
    "hideHardwareSpecs": false,
    "memoryGiB": 96,
    "name": "ml.c5.12xlarge",
    "vcpuNum": 48
   },
   {
    "_defaultOrder": 27,
    "_isFastLaunch": false,
    "category": "Compute optimized",
    "gpuNum": 0,
    "hideHardwareSpecs": false,
    "memoryGiB": 144,
    "name": "ml.c5.18xlarge",
    "vcpuNum": 72
   },
   {
    "_defaultOrder": 28,
    "_isFastLaunch": false,
    "category": "Compute optimized",
    "gpuNum": 0,
    "hideHardwareSpecs": false,
    "memoryGiB": 192,
    "name": "ml.c5.24xlarge",
    "vcpuNum": 96
   },
   {
    "_defaultOrder": 29,
    "_isFastLaunch": true,
    "category": "Accelerated computing",
    "gpuNum": 1,
    "hideHardwareSpecs": false,
    "memoryGiB": 16,
    "name": "ml.g4dn.xlarge",
    "vcpuNum": 4
   },
   {
    "_defaultOrder": 30,
    "_isFastLaunch": false,
    "category": "Accelerated computing",
    "gpuNum": 1,
    "hideHardwareSpecs": false,
    "memoryGiB": 32,
    "name": "ml.g4dn.2xlarge",
    "vcpuNum": 8
   },
   {
    "_defaultOrder": 31,
    "_isFastLaunch": false,
    "category": "Accelerated computing",
    "gpuNum": 1,
    "hideHardwareSpecs": false,
    "memoryGiB": 64,
    "name": "ml.g4dn.4xlarge",
    "vcpuNum": 16
   },
   {
    "_defaultOrder": 32,
    "_isFastLaunch": false,
    "category": "Accelerated computing",
    "gpuNum": 1,
    "hideHardwareSpecs": false,
    "memoryGiB": 128,
    "name": "ml.g4dn.8xlarge",
    "vcpuNum": 32
   },
   {
    "_defaultOrder": 33,
    "_isFastLaunch": false,
    "category": "Accelerated computing",
    "gpuNum": 4,
    "hideHardwareSpecs": false,
    "memoryGiB": 192,
    "name": "ml.g4dn.12xlarge",
    "vcpuNum": 48
   },
   {
    "_defaultOrder": 34,
    "_isFastLaunch": false,
    "category": "Accelerated computing",
    "gpuNum": 1,
    "hideHardwareSpecs": false,
    "memoryGiB": 256,
    "name": "ml.g4dn.16xlarge",
    "vcpuNum": 64
   },
   {
    "_defaultOrder": 35,
    "_isFastLaunch": false,
    "category": "Accelerated computing",
    "gpuNum": 1,
    "hideHardwareSpecs": false,
    "memoryGiB": 61,
    "name": "ml.p3.2xlarge",
    "vcpuNum": 8
   },
   {
    "_defaultOrder": 36,
    "_isFastLaunch": false,
    "category": "Accelerated computing",
    "gpuNum": 4,
    "hideHardwareSpecs": false,
    "memoryGiB": 244,
    "name": "ml.p3.8xlarge",
    "vcpuNum": 32
   },
   {
    "_defaultOrder": 37,
    "_isFastLaunch": false,
    "category": "Accelerated computing",
    "gpuNum": 8,
    "hideHardwareSpecs": false,
    "memoryGiB": 488,
    "name": "ml.p3.16xlarge",
    "vcpuNum": 64
   },
   {
    "_defaultOrder": 38,
    "_isFastLaunch": false,
    "category": "Accelerated computing",
    "gpuNum": 8,
    "hideHardwareSpecs": false,
    "memoryGiB": 768,
    "name": "ml.p3dn.24xlarge",
    "vcpuNum": 96
   },
   {
    "_defaultOrder": 39,
    "_isFastLaunch": false,
    "category": "Memory Optimized",
    "gpuNum": 0,
    "hideHardwareSpecs": false,
    "memoryGiB": 16,
    "name": "ml.r5.large",
    "vcpuNum": 2
   },
   {
    "_defaultOrder": 40,
    "_isFastLaunch": false,
    "category": "Memory Optimized",
    "gpuNum": 0,
    "hideHardwareSpecs": false,
    "memoryGiB": 32,
    "name": "ml.r5.xlarge",
    "vcpuNum": 4
   },
   {
    "_defaultOrder": 41,
    "_isFastLaunch": false,
    "category": "Memory Optimized",
    "gpuNum": 0,
    "hideHardwareSpecs": false,
    "memoryGiB": 64,
    "name": "ml.r5.2xlarge",
    "vcpuNum": 8
   },
   {
    "_defaultOrder": 42,
    "_isFastLaunch": false,
    "category": "Memory Optimized",
    "gpuNum": 0,
    "hideHardwareSpecs": false,
    "memoryGiB": 128,
    "name": "ml.r5.4xlarge",
    "vcpuNum": 16
   },
   {
    "_defaultOrder": 43,
    "_isFastLaunch": false,
    "category": "Memory Optimized",
    "gpuNum": 0,
    "hideHardwareSpecs": false,
    "memoryGiB": 256,
    "name": "ml.r5.8xlarge",
    "vcpuNum": 32
   },
   {
    "_defaultOrder": 44,
    "_isFastLaunch": false,
    "category": "Memory Optimized",
    "gpuNum": 0,
    "hideHardwareSpecs": false,
    "memoryGiB": 384,
    "name": "ml.r5.12xlarge",
    "vcpuNum": 48
   },
   {
    "_defaultOrder": 45,
    "_isFastLaunch": false,
    "category": "Memory Optimized",
    "gpuNum": 0,
    "hideHardwareSpecs": false,
    "memoryGiB": 512,
    "name": "ml.r5.16xlarge",
    "vcpuNum": 64
   },
   {
    "_defaultOrder": 46,
    "_isFastLaunch": false,
    "category": "Memory Optimized",
    "gpuNum": 0,
    "hideHardwareSpecs": false,
    "memoryGiB": 768,
    "name": "ml.r5.24xlarge",
    "vcpuNum": 96
   },
   {
    "_defaultOrder": 47,
    "_isFastLaunch": false,
    "category": "Accelerated computing",
    "gpuNum": 1,
    "hideHardwareSpecs": false,
    "memoryGiB": 16,
    "name": "ml.g5.xlarge",
    "vcpuNum": 4
   },
   {
    "_defaultOrder": 48,
    "_isFastLaunch": false,
    "category": "Accelerated computing",
    "gpuNum": 1,
    "hideHardwareSpecs": false,
    "memoryGiB": 32,
    "name": "ml.g5.2xlarge",
    "vcpuNum": 8
   },
   {
    "_defaultOrder": 49,
    "_isFastLaunch": false,
    "category": "Accelerated computing",
    "gpuNum": 1,
    "hideHardwareSpecs": false,
    "memoryGiB": 64,
    "name": "ml.g5.4xlarge",
    "vcpuNum": 16
   },
   {
    "_defaultOrder": 50,
    "_isFastLaunch": false,
    "category": "Accelerated computing",
    "gpuNum": 1,
    "hideHardwareSpecs": false,
    "memoryGiB": 128,
    "name": "ml.g5.8xlarge",
    "vcpuNum": 32
   },
   {
    "_defaultOrder": 51,
    "_isFastLaunch": false,
    "category": "Accelerated computing",
    "gpuNum": 1,
    "hideHardwareSpecs": false,
    "memoryGiB": 256,
    "name": "ml.g5.16xlarge",
    "vcpuNum": 64
   },
   {
    "_defaultOrder": 52,
    "_isFastLaunch": false,
    "category": "Accelerated computing",
    "gpuNum": 4,
    "hideHardwareSpecs": false,
    "memoryGiB": 192,
    "name": "ml.g5.12xlarge",
    "vcpuNum": 48
   },
   {
    "_defaultOrder": 53,
    "_isFastLaunch": false,
    "category": "Accelerated computing",
    "gpuNum": 4,
    "hideHardwareSpecs": false,
    "memoryGiB": 384,
    "name": "ml.g5.24xlarge",
    "vcpuNum": 96
   },
   {
    "_defaultOrder": 54,
    "_isFastLaunch": false,
    "category": "Accelerated computing",
    "gpuNum": 8,
    "hideHardwareSpecs": false,
    "memoryGiB": 768,
    "name": "ml.g5.48xlarge",
    "vcpuNum": 192
   },
   {
    "_defaultOrder": 55,
    "_isFastLaunch": false,
    "category": "Accelerated computing",
    "gpuNum": 8,
    "hideHardwareSpecs": false,
    "memoryGiB": 1152,
    "name": "ml.p4d.24xlarge",
    "vcpuNum": 96
   },
   {
    "_defaultOrder": 56,
    "_isFastLaunch": false,
    "category": "Accelerated computing",
    "gpuNum": 8,
    "hideHardwareSpecs": false,
    "memoryGiB": 1152,
    "name": "ml.p4de.24xlarge",
    "vcpuNum": 96
   },
   {
    "_defaultOrder": 57,
    "_isFastLaunch": false,
    "category": "Accelerated computing",
    "gpuNum": 0,
    "hideHardwareSpecs": false,
    "memoryGiB": 32,
    "name": "ml.trn1.2xlarge",
    "vcpuNum": 8
   },
   {
    "_defaultOrder": 58,
    "_isFastLaunch": false,
    "category": "Accelerated computing",
    "gpuNum": 0,
    "hideHardwareSpecs": false,
    "memoryGiB": 512,
    "name": "ml.trn1.32xlarge",
    "vcpuNum": 128
   },
   {
    "_defaultOrder": 59,
    "_isFastLaunch": false,
    "category": "Accelerated computing",
    "gpuNum": 0,
    "hideHardwareSpecs": false,
    "memoryGiB": 512,
    "name": "ml.trn1n.32xlarge",
    "vcpuNum": 128
   }
  ],
  "instance_type": "ml.g4dn.xlarge",
  "kernelspec": {
   "display_name": "Python 3 (Data Science 3.0)",
   "language": "python",
   "name": "python3__SAGEMAKER_INTERNAL__arn:aws:sagemaker:us-west-2:236514542706:image/sagemaker-data-science-310-v1"
  },
  "language_info": {
   "codemirror_mode": {
    "name": "ipython",
    "version": 3
   },
   "file_extension": ".py",
   "mimetype": "text/x-python",
   "name": "python",
   "nbconvert_exporter": "python",
   "pygments_lexer": "ipython3",
   "version": "3.10.6"
  }
 },
 "nbformat": 4,
 "nbformat_minor": 5
}
