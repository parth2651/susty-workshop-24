{
 "cells": [
  {
   "cell_type": "code",
   "execution_count": 1,
   "id": "5f60d0d5-ae66-492d-bdd3-8d3c5c9c0239",
   "metadata": {},
   "outputs": [],
   "source": [
    "#!pip install pymupdf --quiet "
   ]
  },
  {
   "cell_type": "code",
   "execution_count": 2,
   "id": "c91e3249-20df-4caa-a347-0172a755b588",
   "metadata": {
    "tags": []
   },
   "outputs": [
    {
     "name": "stdout",
     "output_type": "stream",
     "text": [
      "us-west-2\n"
     ]
    }
   ],
   "source": [
    "import boto3\n",
    "import pprint\n",
    "from botocore.client import Config\n",
    "import json\n",
    "import re\n",
    "\n",
    "import os\n",
    "import json\n",
    "import time\n",
    "import base64\n",
    "from PIL import Image\n",
    "import io\n",
    "from IPython.display import Image\n",
    "from IPython.display import display\n",
    "import ipywidgets as widgets\n",
    "#from skimage import io\n",
    "\n",
    "\n",
    "\n",
    "pp = pprint.PrettyPrinter(indent=2)\n",
    "session = boto3.session.Session()\n",
    "region = session.region_name\n",
    "bedrock_config = Config(connect_timeout=120, read_timeout=120, retries={'max_attempts': 0})\n",
    "bedrock_client = boto3.client('bedrock-runtime', region_name = region)\n",
    "bedrock_runtime = boto3.client('bedrock-runtime', region_name = region)\n",
    "bedrock_agent_client = boto3.client(\"bedrock-agent-runtime\",\n",
    "                              config=bedrock_config, region_name = region)\n",
    "print(region)"
   ]
  },
  {
   "cell_type": "code",
   "execution_count": 3,
   "id": "fb20cb40-021b-435d-8f87-137764d51b1f",
   "metadata": {
    "tags": []
   },
   "outputs": [],
   "source": [
    "from helper.llmcall import * \n",
    "model = \"anthropic.claude-3-sonnet\"\n"
   ]
  },
  {
   "cell_type": "markdown",
   "id": "b1384628-5c8f-4985-badb-aa2f880b70a4",
   "metadata": {
    "tags": []
   },
   "source": [
    "# functionas"
   ]
  },
  {
   "cell_type": "code",
   "execution_count": 4,
   "id": "591a15d1-4019-4e85-ba98-4a4be80d6935",
   "metadata": {
    "tags": []
   },
   "outputs": [],
   "source": [
    "# Function to convert image to base64\n",
    "def image_to_base64(image_path):\n",
    "    with open(image_path, \"rb\") as image_file:\n",
    "        binary_data = image_file.read()\n",
    "        base_64_encoded_data = base64.b64encode(binary_data)\n",
    "        base64_string = base_64_encoded_data.decode('utf-8')\n",
    "    return base64_string"
   ]
  },
  {
   "cell_type": "markdown",
   "id": "cdd54d5e-5b22-403c-9381-93f58ce37211",
   "metadata": {
    "tags": []
   },
   "source": [
    "# PDF to Image"
   ]
  },
  {
   "cell_type": "code",
   "execution_count": 5,
   "id": "c4e8955d-5801-4deb-9f31-06c5c1f9caca",
   "metadata": {
    "tags": []
   },
   "outputs": [],
   "source": [
    "import fitz  # PyMuPDF, imported as fitz for backward compatibility reasons\n",
    "\n",
    "file_path = \"Image/pge-utility-bill.pdf\"\n",
    "doc = fitz.open(file_path)  # open document\n",
    "for i, page in enumerate(doc):\n",
    "    pix = page.get_pixmap()  # render page to an image\n",
    "    pageindex = f\"_{i+1}.png\"\n",
    "    #print(pageindex)\n",
    "    imagepath = file_path.replace(\".pdf\",pageindex)\n",
    "    pix.save(imagepath)\n"
   ]
  },
  {
   "cell_type": "markdown",
   "id": "a27e617b-92dd-40ec-9a52-b4d16e554daa",
   "metadata": {},
   "source": [
    "# using GenAI to read image"
   ]
  },
  {
   "cell_type": "markdown",
   "id": "78181837-5440-4986-af83-94ac37dac3d7",
   "metadata": {
    "tags": []
   },
   "source": [
    "## sample"
   ]
  },
  {
   "cell_type": "code",
   "execution_count": 6,
   "id": "7dee96ea-87b0-4c43-abed-1d49860d0723",
   "metadata": {},
   "outputs": [],
   "source": [
    "# # Example usage\n",
    "# image_path = 'Image/pge-utility-bill.pdf'  # Specify the path to your image\n",
    "# base64_string = image_to_base64(image_path)\n",
    "# Image(filename=image_path) \n",
    "# response_text = interactWithLLM(\"can you describe this image in details?\",base64_string,llm_type)\n",
    "# print('response_text --- \\n' + response_text)"
   ]
  },
  {
   "cell_type": "markdown",
   "id": "74ffd5b3-1e97-4c87-b422-60d180072ae5",
   "metadata": {},
   "source": [
    "## read from folder"
   ]
  },
  {
   "cell_type": "code",
   "execution_count": 13,
   "id": "e506ead8-57af-4e47-ac2e-8ca9f6487b1f",
   "metadata": {},
   "outputs": [
    {
     "name": "stdout",
     "output_type": "stream",
     "text": [
      "Image/electricity/e-24sample-bill-for-website.jpg\n",
      "The number of kWh used for the current period, as shown in the meter reading summary, is 573.\n",
      "\n",
      "Image/electricity/e-Sample-electric-Bill-2023.jpg\n",
      "The image shows that the kWh usage for the current billing period is 55 units.\n",
      "\n",
      "Image/electricity/e-YHU utility bill.png\n",
      "The total electricity usage in kWh for the current period, as mentioned on the bill, is 1,353.\n",
      "\n",
      "\n",
      "\n",
      "The total kWh value from all bills is: 1981 kWh\n"
     ]
    }
   ],
   "source": [
    "directory_path ='Image/electricity'  # Specify the path to your image\n",
    "total_kwh = 0\n",
    "for path, folders, files  in os.walk(directory_path):\n",
    "     for filename in files:\n",
    "            image_path = os.path.join(directory_path, filename)\n",
    "            print(image_path)\n",
    "            base64_string = image_to_base64(image_path)\n",
    "            Image(filename=image_path) \n",
    "            response_text = interactWithLLM(bedrock_runtime,prompt=\"how many kWh has been used for current period? only mentioned digits. if you do not have it return 0\",image=base64_string,llm_type=model)\n",
    "            print(response_text)   \n",
    "            print('')\n",
    "\n",
    "            # Extract all numbers from the output\n",
    "            numbers = re.findall(r'\\b\\d{1,3}(?:,\\d{3})*\\b', response_text)\n",
    "            \n",
    "            # Convert the extracted numbers to integers, removing commas\n",
    "            kwh_values = [int(num.replace(',', '')) for num in numbers]\n",
    "            \n",
    "            # Calculate the total kWh\n",
    "            total_kwh =  total_kwh + sum(kwh_values)\n",
    "\n",
    "print('\\n')\n",
    "print(f\"The total kWh value from all bills is: {total_kwh} kWh\")"
   ]
  },
  {
   "cell_type": "code",
   "execution_count": 8,
   "id": "f9335baf-423f-4e7f-8197-1c9da035f3ec",
   "metadata": {},
   "outputs": [
    {
     "name": "stdout",
     "output_type": "stream",
     "text": [
      "Image/water/w-Water Bill sample image.jpg\n",
      "response_text --- \n",
      "According to the meter reading information on the water bill, the current read is 66 and the previous read is 20. The multiplier is listed as N/A. Therefore, the consumption or water usage for the current billing period is 46 units.\n",
      "Extracted: 66.0 units.\n",
      "Converted: 49368.00 gallons\n",
      "\n",
      "Image/water/w-Water-Bill-06-06-18.jpg\n",
      "response_text --- \n",
      "According to the consumption history table in the image, the water usage for the current billing period (Bill Date 05-17) is 10 units (likely referring to 1,000 gallons or some other unit of water measurement).\n",
      "Extracted: 5.0 measurement).\n",
      "Converted: 3740.00 gallons\n",
      "\n",
      "Image/water/w-waterbill-iowa.png\n",
      "response_text --- \n",
      "According to the utility statement shown in the image, the current water usage reading is 2596 for the service period.\n",
      "Extracted: 2596.0 period.\n",
      "Converted: 1941808.00 gallons\n",
      "\n",
      "Total water consumption: 1994916.00 gallons\n"
     ]
    }
   ],
   "source": [
    "def extract_number(text):\n",
    "    numbers = re.findall(r'\\b\\d+(?:,\\d+)*(?:\\.\\d+)?\\b', text)\n",
    "    return float(numbers[0].replace(',', '')) if numbers else 0\n",
    "\n",
    "def convert_to_gallons(value, unit):\n",
    "    if 'ccf' in unit.lower() or 'cubic feet' in unit.lower():\n",
    "        return value * 748  # 1 CCF = 748 gallons\n",
    "    elif 'gallon' in unit.lower():\n",
    "        return value\n",
    "    else:\n",
    "        return value * 748  # Assume CCF if unit is not specified or is 'unit'\n",
    "\n",
    "total_gallons = 0\n",
    "\n",
    "directory_path ='Image/water'  # Specify the path to your image\n",
    "for path, folders, files  in os.walk(directory_path):\n",
    "     for filename in files:\n",
    "            image_path = os.path.join(directory_path, filename)\n",
    "            print(image_path)\n",
    "            base64_string = image_to_base64(image_path)\n",
    "            Image(filename=image_path) \n",
    "            response_text = interactWithLLM(bedrock_runtime,prompt=\"what is the water usage in current period?\",image=base64_string,llm_type=model)\n",
    "            print('response_text --- \\n' + response_text)\n",
    "            # Extract number and unit from response\n",
    "            value = extract_number(response_text)\n",
    "            unit = response_text.split()[-1].lower()  # Assume unit is the last word\n",
    "            \n",
    "            # Convert to gallons\n",
    "            gallons = convert_to_gallons(value, unit)\n",
    "            total_gallons += gallons\n",
    "            \n",
    "            print(f\"Extracted: {value} {unit}\")\n",
    "            print(f\"Converted: {gallons:.2f} gallons\\n\")\n",
    "\n",
    "print(f\"Total water consumption: {total_gallons:.2f} gallons\")"
   ]
  },
  {
   "cell_type": "code",
   "execution_count": null,
   "id": "d34f10f7-09b4-4367-b7c6-7964a283a934",
   "metadata": {},
   "outputs": [],
   "source": []
  },
  {
   "cell_type": "code",
   "execution_count": null,
   "id": "fa29bbf4-20d8-42ae-9555-a752356471d9",
   "metadata": {},
   "outputs": [],
   "source": []
  },
  {
   "cell_type": "code",
   "execution_count": null,
   "id": "2620e6b5-0fb7-4288-bd9f-95c6489baab8",
   "metadata": {},
   "outputs": [],
   "source": []
  }
 ],
 "metadata": {
  "availableInstances": [
   {
    "_defaultOrder": 0,
    "_isFastLaunch": true,
    "category": "General purpose",
    "gpuNum": 0,
    "hideHardwareSpecs": false,
    "memoryGiB": 4,
    "name": "ml.t3.medium",
    "vcpuNum": 2
   },
   {
    "_defaultOrder": 1,
    "_isFastLaunch": false,
    "category": "General purpose",
    "gpuNum": 0,
    "hideHardwareSpecs": false,
    "memoryGiB": 8,
    "name": "ml.t3.large",
    "vcpuNum": 2
   },
   {
    "_defaultOrder": 2,
    "_isFastLaunch": false,
    "category": "General purpose",
    "gpuNum": 0,
    "hideHardwareSpecs": false,
    "memoryGiB": 16,
    "name": "ml.t3.xlarge",
    "vcpuNum": 4
   },
   {
    "_defaultOrder": 3,
    "_isFastLaunch": false,
    "category": "General purpose",
    "gpuNum": 0,
    "hideHardwareSpecs": false,
    "memoryGiB": 32,
    "name": "ml.t3.2xlarge",
    "vcpuNum": 8
   },
   {
    "_defaultOrder": 4,
    "_isFastLaunch": true,
    "category": "General purpose",
    "gpuNum": 0,
    "hideHardwareSpecs": false,
    "memoryGiB": 8,
    "name": "ml.m5.large",
    "vcpuNum": 2
   },
   {
    "_defaultOrder": 5,
    "_isFastLaunch": false,
    "category": "General purpose",
    "gpuNum": 0,
    "hideHardwareSpecs": false,
    "memoryGiB": 16,
    "name": "ml.m5.xlarge",
    "vcpuNum": 4
   },
   {
    "_defaultOrder": 6,
    "_isFastLaunch": false,
    "category": "General purpose",
    "gpuNum": 0,
    "hideHardwareSpecs": false,
    "memoryGiB": 32,
    "name": "ml.m5.2xlarge",
    "vcpuNum": 8
   },
   {
    "_defaultOrder": 7,
    "_isFastLaunch": false,
    "category": "General purpose",
    "gpuNum": 0,
    "hideHardwareSpecs": false,
    "memoryGiB": 64,
    "name": "ml.m5.4xlarge",
    "vcpuNum": 16
   },
   {
    "_defaultOrder": 8,
    "_isFastLaunch": false,
    "category": "General purpose",
    "gpuNum": 0,
    "hideHardwareSpecs": false,
    "memoryGiB": 128,
    "name": "ml.m5.8xlarge",
    "vcpuNum": 32
   },
   {
    "_defaultOrder": 9,
    "_isFastLaunch": false,
    "category": "General purpose",
    "gpuNum": 0,
    "hideHardwareSpecs": false,
    "memoryGiB": 192,
    "name": "ml.m5.12xlarge",
    "vcpuNum": 48
   },
   {
    "_defaultOrder": 10,
    "_isFastLaunch": false,
    "category": "General purpose",
    "gpuNum": 0,
    "hideHardwareSpecs": false,
    "memoryGiB": 256,
    "name": "ml.m5.16xlarge",
    "vcpuNum": 64
   },
   {
    "_defaultOrder": 11,
    "_isFastLaunch": false,
    "category": "General purpose",
    "gpuNum": 0,
    "hideHardwareSpecs": false,
    "memoryGiB": 384,
    "name": "ml.m5.24xlarge",
    "vcpuNum": 96
   },
   {
    "_defaultOrder": 12,
    "_isFastLaunch": false,
    "category": "General purpose",
    "gpuNum": 0,
    "hideHardwareSpecs": false,
    "memoryGiB": 8,
    "name": "ml.m5d.large",
    "vcpuNum": 2
   },
   {
    "_defaultOrder": 13,
    "_isFastLaunch": false,
    "category": "General purpose",
    "gpuNum": 0,
    "hideHardwareSpecs": false,
    "memoryGiB": 16,
    "name": "ml.m5d.xlarge",
    "vcpuNum": 4
   },
   {
    "_defaultOrder": 14,
    "_isFastLaunch": false,
    "category": "General purpose",
    "gpuNum": 0,
    "hideHardwareSpecs": false,
    "memoryGiB": 32,
    "name": "ml.m5d.2xlarge",
    "vcpuNum": 8
   },
   {
    "_defaultOrder": 15,
    "_isFastLaunch": false,
    "category": "General purpose",
    "gpuNum": 0,
    "hideHardwareSpecs": false,
    "memoryGiB": 64,
    "name": "ml.m5d.4xlarge",
    "vcpuNum": 16
   },
   {
    "_defaultOrder": 16,
    "_isFastLaunch": false,
    "category": "General purpose",
    "gpuNum": 0,
    "hideHardwareSpecs": false,
    "memoryGiB": 128,
    "name": "ml.m5d.8xlarge",
    "vcpuNum": 32
   },
   {
    "_defaultOrder": 17,
    "_isFastLaunch": false,
    "category": "General purpose",
    "gpuNum": 0,
    "hideHardwareSpecs": false,
    "memoryGiB": 192,
    "name": "ml.m5d.12xlarge",
    "vcpuNum": 48
   },
   {
    "_defaultOrder": 18,
    "_isFastLaunch": false,
    "category": "General purpose",
    "gpuNum": 0,
    "hideHardwareSpecs": false,
    "memoryGiB": 256,
    "name": "ml.m5d.16xlarge",
    "vcpuNum": 64
   },
   {
    "_defaultOrder": 19,
    "_isFastLaunch": false,
    "category": "General purpose",
    "gpuNum": 0,
    "hideHardwareSpecs": false,
    "memoryGiB": 384,
    "name": "ml.m5d.24xlarge",
    "vcpuNum": 96
   },
   {
    "_defaultOrder": 20,
    "_isFastLaunch": false,
    "category": "General purpose",
    "gpuNum": 0,
    "hideHardwareSpecs": true,
    "memoryGiB": 0,
    "name": "ml.geospatial.interactive",
    "supportedImageNames": [
     "sagemaker-geospatial-v1-0"
    ],
    "vcpuNum": 0
   },
   {
    "_defaultOrder": 21,
    "_isFastLaunch": true,
    "category": "Compute optimized",
    "gpuNum": 0,
    "hideHardwareSpecs": false,
    "memoryGiB": 4,
    "name": "ml.c5.large",
    "vcpuNum": 2
   },
   {
    "_defaultOrder": 22,
    "_isFastLaunch": false,
    "category": "Compute optimized",
    "gpuNum": 0,
    "hideHardwareSpecs": false,
    "memoryGiB": 8,
    "name": "ml.c5.xlarge",
    "vcpuNum": 4
   },
   {
    "_defaultOrder": 23,
    "_isFastLaunch": false,
    "category": "Compute optimized",
    "gpuNum": 0,
    "hideHardwareSpecs": false,
    "memoryGiB": 16,
    "name": "ml.c5.2xlarge",
    "vcpuNum": 8
   },
   {
    "_defaultOrder": 24,
    "_isFastLaunch": false,
    "category": "Compute optimized",
    "gpuNum": 0,
    "hideHardwareSpecs": false,
    "memoryGiB": 32,
    "name": "ml.c5.4xlarge",
    "vcpuNum": 16
   },
   {
    "_defaultOrder": 25,
    "_isFastLaunch": false,
    "category": "Compute optimized",
    "gpuNum": 0,
    "hideHardwareSpecs": false,
    "memoryGiB": 72,
    "name": "ml.c5.9xlarge",
    "vcpuNum": 36
   },
   {
    "_defaultOrder": 26,
    "_isFastLaunch": false,
    "category": "Compute optimized",
    "gpuNum": 0,
    "hideHardwareSpecs": false,
    "memoryGiB": 96,
    "name": "ml.c5.12xlarge",
    "vcpuNum": 48
   },
   {
    "_defaultOrder": 27,
    "_isFastLaunch": false,
    "category": "Compute optimized",
    "gpuNum": 0,
    "hideHardwareSpecs": false,
    "memoryGiB": 144,
    "name": "ml.c5.18xlarge",
    "vcpuNum": 72
   },
   {
    "_defaultOrder": 28,
    "_isFastLaunch": false,
    "category": "Compute optimized",
    "gpuNum": 0,
    "hideHardwareSpecs": false,
    "memoryGiB": 192,
    "name": "ml.c5.24xlarge",
    "vcpuNum": 96
   },
   {
    "_defaultOrder": 29,
    "_isFastLaunch": true,
    "category": "Accelerated computing",
    "gpuNum": 1,
    "hideHardwareSpecs": false,
    "memoryGiB": 16,
    "name": "ml.g4dn.xlarge",
    "vcpuNum": 4
   },
   {
    "_defaultOrder": 30,
    "_isFastLaunch": false,
    "category": "Accelerated computing",
    "gpuNum": 1,
    "hideHardwareSpecs": false,
    "memoryGiB": 32,
    "name": "ml.g4dn.2xlarge",
    "vcpuNum": 8
   },
   {
    "_defaultOrder": 31,
    "_isFastLaunch": false,
    "category": "Accelerated computing",
    "gpuNum": 1,
    "hideHardwareSpecs": false,
    "memoryGiB": 64,
    "name": "ml.g4dn.4xlarge",
    "vcpuNum": 16
   },
   {
    "_defaultOrder": 32,
    "_isFastLaunch": false,
    "category": "Accelerated computing",
    "gpuNum": 1,
    "hideHardwareSpecs": false,
    "memoryGiB": 128,
    "name": "ml.g4dn.8xlarge",
    "vcpuNum": 32
   },
   {
    "_defaultOrder": 33,
    "_isFastLaunch": false,
    "category": "Accelerated computing",
    "gpuNum": 4,
    "hideHardwareSpecs": false,
    "memoryGiB": 192,
    "name": "ml.g4dn.12xlarge",
    "vcpuNum": 48
   },
   {
    "_defaultOrder": 34,
    "_isFastLaunch": false,
    "category": "Accelerated computing",
    "gpuNum": 1,
    "hideHardwareSpecs": false,
    "memoryGiB": 256,
    "name": "ml.g4dn.16xlarge",
    "vcpuNum": 64
   },
   {
    "_defaultOrder": 35,
    "_isFastLaunch": false,
    "category": "Accelerated computing",
    "gpuNum": 1,
    "hideHardwareSpecs": false,
    "memoryGiB": 61,
    "name": "ml.p3.2xlarge",
    "vcpuNum": 8
   },
   {
    "_defaultOrder": 36,
    "_isFastLaunch": false,
    "category": "Accelerated computing",
    "gpuNum": 4,
    "hideHardwareSpecs": false,
    "memoryGiB": 244,
    "name": "ml.p3.8xlarge",
    "vcpuNum": 32
   },
   {
    "_defaultOrder": 37,
    "_isFastLaunch": false,
    "category": "Accelerated computing",
    "gpuNum": 8,
    "hideHardwareSpecs": false,
    "memoryGiB": 488,
    "name": "ml.p3.16xlarge",
    "vcpuNum": 64
   },
   {
    "_defaultOrder": 38,
    "_isFastLaunch": false,
    "category": "Accelerated computing",
    "gpuNum": 8,
    "hideHardwareSpecs": false,
    "memoryGiB": 768,
    "name": "ml.p3dn.24xlarge",
    "vcpuNum": 96
   },
   {
    "_defaultOrder": 39,
    "_isFastLaunch": false,
    "category": "Memory Optimized",
    "gpuNum": 0,
    "hideHardwareSpecs": false,
    "memoryGiB": 16,
    "name": "ml.r5.large",
    "vcpuNum": 2
   },
   {
    "_defaultOrder": 40,
    "_isFastLaunch": false,
    "category": "Memory Optimized",
    "gpuNum": 0,
    "hideHardwareSpecs": false,
    "memoryGiB": 32,
    "name": "ml.r5.xlarge",
    "vcpuNum": 4
   },
   {
    "_defaultOrder": 41,
    "_isFastLaunch": false,
    "category": "Memory Optimized",
    "gpuNum": 0,
    "hideHardwareSpecs": false,
    "memoryGiB": 64,
    "name": "ml.r5.2xlarge",
    "vcpuNum": 8
   },
   {
    "_defaultOrder": 42,
    "_isFastLaunch": false,
    "category": "Memory Optimized",
    "gpuNum": 0,
    "hideHardwareSpecs": false,
    "memoryGiB": 128,
    "name": "ml.r5.4xlarge",
    "vcpuNum": 16
   },
   {
    "_defaultOrder": 43,
    "_isFastLaunch": false,
    "category": "Memory Optimized",
    "gpuNum": 0,
    "hideHardwareSpecs": false,
    "memoryGiB": 256,
    "name": "ml.r5.8xlarge",
    "vcpuNum": 32
   },
   {
    "_defaultOrder": 44,
    "_isFastLaunch": false,
    "category": "Memory Optimized",
    "gpuNum": 0,
    "hideHardwareSpecs": false,
    "memoryGiB": 384,
    "name": "ml.r5.12xlarge",
    "vcpuNum": 48
   },
   {
    "_defaultOrder": 45,
    "_isFastLaunch": false,
    "category": "Memory Optimized",
    "gpuNum": 0,
    "hideHardwareSpecs": false,
    "memoryGiB": 512,
    "name": "ml.r5.16xlarge",
    "vcpuNum": 64
   },
   {
    "_defaultOrder": 46,
    "_isFastLaunch": false,
    "category": "Memory Optimized",
    "gpuNum": 0,
    "hideHardwareSpecs": false,
    "memoryGiB": 768,
    "name": "ml.r5.24xlarge",
    "vcpuNum": 96
   },
   {
    "_defaultOrder": 47,
    "_isFastLaunch": false,
    "category": "Accelerated computing",
    "gpuNum": 1,
    "hideHardwareSpecs": false,
    "memoryGiB": 16,
    "name": "ml.g5.xlarge",
    "vcpuNum": 4
   },
   {
    "_defaultOrder": 48,
    "_isFastLaunch": false,
    "category": "Accelerated computing",
    "gpuNum": 1,
    "hideHardwareSpecs": false,
    "memoryGiB": 32,
    "name": "ml.g5.2xlarge",
    "vcpuNum": 8
   },
   {
    "_defaultOrder": 49,
    "_isFastLaunch": false,
    "category": "Accelerated computing",
    "gpuNum": 1,
    "hideHardwareSpecs": false,
    "memoryGiB": 64,
    "name": "ml.g5.4xlarge",
    "vcpuNum": 16
   },
   {
    "_defaultOrder": 50,
    "_isFastLaunch": false,
    "category": "Accelerated computing",
    "gpuNum": 1,
    "hideHardwareSpecs": false,
    "memoryGiB": 128,
    "name": "ml.g5.8xlarge",
    "vcpuNum": 32
   },
   {
    "_defaultOrder": 51,
    "_isFastLaunch": false,
    "category": "Accelerated computing",
    "gpuNum": 1,
    "hideHardwareSpecs": false,
    "memoryGiB": 256,
    "name": "ml.g5.16xlarge",
    "vcpuNum": 64
   },
   {
    "_defaultOrder": 52,
    "_isFastLaunch": false,
    "category": "Accelerated computing",
    "gpuNum": 4,
    "hideHardwareSpecs": false,
    "memoryGiB": 192,
    "name": "ml.g5.12xlarge",
    "vcpuNum": 48
   },
   {
    "_defaultOrder": 53,
    "_isFastLaunch": false,
    "category": "Accelerated computing",
    "gpuNum": 4,
    "hideHardwareSpecs": false,
    "memoryGiB": 384,
    "name": "ml.g5.24xlarge",
    "vcpuNum": 96
   },
   {
    "_defaultOrder": 54,
    "_isFastLaunch": false,
    "category": "Accelerated computing",
    "gpuNum": 8,
    "hideHardwareSpecs": false,
    "memoryGiB": 768,
    "name": "ml.g5.48xlarge",
    "vcpuNum": 192
   },
   {
    "_defaultOrder": 55,
    "_isFastLaunch": false,
    "category": "Accelerated computing",
    "gpuNum": 8,
    "hideHardwareSpecs": false,
    "memoryGiB": 1152,
    "name": "ml.p4d.24xlarge",
    "vcpuNum": 96
   },
   {
    "_defaultOrder": 56,
    "_isFastLaunch": false,
    "category": "Accelerated computing",
    "gpuNum": 8,
    "hideHardwareSpecs": false,
    "memoryGiB": 1152,
    "name": "ml.p4de.24xlarge",
    "vcpuNum": 96
   },
   {
    "_defaultOrder": 57,
    "_isFastLaunch": false,
    "category": "Accelerated computing",
    "gpuNum": 0,
    "hideHardwareSpecs": false,
    "memoryGiB": 32,
    "name": "ml.trn1.2xlarge",
    "vcpuNum": 8
   },
   {
    "_defaultOrder": 58,
    "_isFastLaunch": false,
    "category": "Accelerated computing",
    "gpuNum": 0,
    "hideHardwareSpecs": false,
    "memoryGiB": 512,
    "name": "ml.trn1.32xlarge",
    "vcpuNum": 128
   },
   {
    "_defaultOrder": 59,
    "_isFastLaunch": false,
    "category": "Accelerated computing",
    "gpuNum": 0,
    "hideHardwareSpecs": false,
    "memoryGiB": 512,
    "name": "ml.trn1n.32xlarge",
    "vcpuNum": 128
   }
  ],
  "instance_type": "ml.g4dn.xlarge",
  "kernelspec": {
   "display_name": "Python 3 (ipykernel)",
   "language": "python",
   "name": "python3"
  },
  "language_info": {
   "codemirror_mode": {
    "name": "ipython",
    "version": 3
   },
   "file_extension": ".py",
   "mimetype": "text/x-python",
   "name": "python",
   "nbconvert_exporter": "python",
   "pygments_lexer": "ipython3",
   "version": "3.11.9"
  }
 },
 "nbformat": 4,
 "nbformat_minor": 5
}
